{
 "cells": [
  {
   "cell_type": "markdown",
   "id": "8bb99146-0f82-4f2f-aa5c-4f627cc28f98",
   "metadata": {},
   "source": [
    "# SALARY PREDICTION USING NUMPY ONLY"
   ]
  },
  {
   "cell_type": "code",
   "execution_count": null,
   "id": "1309084c-a5d2-49ab-8c8f-8f519f7ccc1e",
   "metadata": {},
   "outputs": [],
   "source": []
  }
 ],
 "metadata": {
  "kernelspec": {
   "display_name": "Python 3 (ipykernel)",
   "language": "python",
   "name": "python3"
  },
  "language_info": {
   "codemirror_mode": {
    "name": "ipython",
    "version": 3
   },
   "file_extension": ".py",
   "mimetype": "text/x-python",
   "name": "python",
   "nbconvert_exporter": "python",
   "pygments_lexer": "ipython3",
   "version": "3.12.2"
  }
 },
 "nbformat": 4,
 "nbformat_minor": 5
}
