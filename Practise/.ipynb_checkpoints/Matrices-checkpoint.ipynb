{
 "cells": [
  {
   "cell_type": "code",
   "execution_count": 2,
   "id": "30ebcabc-35b0-4c56-9330-1217b3479f03",
   "metadata": {},
   "outputs": [
    {
     "data": {
      "text/plain": [
       "[array([1, 2]), array([3, 4]), array([5, 6])]"
      ]
     },
     "execution_count": 2,
     "metadata": {},
     "output_type": "execute_result"
    }
   ],
   "source": [
    "# spliting the array horizontally. Rule: number of columns must be divisible by spliting value that is 3 in this case and divides array into 3 parts.\n",
    "import numpy as np\n",
    "arr=np.array([1,2,3,4,5,6])\n",
    "split=np.hsplit(arr,3)\n",
    "split"
   ]
  },
  {
   "cell_type": "code",
   "execution_count": 3,
   "id": "61390027-ec70-4653-97d6-3afd0cee06eb",
   "metadata": {},
   "outputs": [
    {
     "data": {
      "text/plain": [
       "[array([[1, 2],\n",
       "        [3, 4]]),\n",
       " array([[5, 6],\n",
       "        [7, 8]])]"
      ]
     },
     "execution_count": 3,
     "metadata": {},
     "output_type": "execute_result"
    }
   ],
   "source": [
    "# vertical spliting of the array> Number of rows must be divisible by spliting value that is 2 here and it divides array into 2 parts.\n",
    "arr=np.array([[1,2],[3,4],[5,6],[7,8]])\n",
    "np.vsplit(arr,2)"
   ]
  },
  {
   "cell_type": "code",
   "execution_count": 6,
   "id": "0f92824d-b287-4ba6-8a68-92c68a6749d7",
   "metadata": {},
   "outputs": [
    {
     "name": "stdout",
     "output_type": "stream",
     "text": [
      "[[ 1  2  3  4  5  6  7  8  9 10 11 12]\n",
      " [13 14 15 16 17 18 19 20 21 22 23 24]]\n"
     ]
    },
    {
     "data": {
      "text/plain": [
       "[array([[ 1,  2,  3,  4],\n",
       "        [13, 14, 15, 16]]),\n",
       " array([[ 5],\n",
       "        [17]]),\n",
       " array([[ 6,  7,  8,  9, 10, 11, 12],\n",
       "        [18, 19, 20, 21, 22, 23, 24]])]"
      ]
     },
     "execution_count": 6,
     "metadata": {},
     "output_type": "execute_result"
    }
   ],
   "source": [
    "x=np.arange(1,25).reshape(2,12)\n",
    "print(x)\n",
    "np.hsplit(x,(4,5))"
   ]
  },
  {
   "cell_type": "code",
   "execution_count": 11,
   "id": "68d24652-0f93-48e2-a05f-9507d805d5ba",
   "metadata": {},
   "outputs": [
    {
     "name": "stdout",
     "output_type": "stream",
     "text": [
      "[[3 4]\n",
      " [5 6]]\n",
      "[1 3]\n",
      "[[1 2]\n",
      " [3 4]\n",
      " [5 6]]\n"
     ]
    }
   ],
   "source": [
    "#slicing in matrices.\n",
    "arr=np.array([[1,2],[3,4],[5,6]])\n",
    "print(arr[1:3])\n",
    "print(arr[0:2,0])\n",
    "print(arr[:,0:2])\n"
   ]
  },
  {
   "cell_type": "code",
   "execution_count": 18,
   "id": "10def13f-e22a-4a91-bc80-e885e908f15b",
   "metadata": {},
   "outputs": [
    {
     "name": "stdout",
     "output_type": "stream",
     "text": [
      "6\n",
      "1\n",
      "[1 2]\n",
      "[1 3 5]\n",
      "[1 2]\n",
      "[5 6]\n",
      "[2 4 6]\n",
      "[ 9 12]\n",
      "[ 3  7 11]\n",
      "21\n"
     ]
    }
   ],
   "source": [
    "# max,mins in matrices\n",
    "data=np.array([[1,2],[3,4],[5,6]])\n",
    "print(data.max())\n",
    "print(data.min())\n",
    "print(data.min(axis=0))\n",
    "print(data.min(axis=1))\n",
    "print(data.min(axis=0))\n",
    "print(data.max(axis=0))\n",
    "print(data.max(axis=1))\n",
    "print(data.sum(axis=0))\n",
    "print(data.sum(axis=1))\n",
    "print(data.sum())\n"
   ]
  },
  {
   "cell_type": "code",
   "execution_count": 22,
   "id": "a7ccf5c4-38e2-42ea-a64f-7802c15718a8",
   "metadata": {},
   "outputs": [
    {
     "name": "stdout",
     "output_type": "stream",
     "text": [
      "[11 12 13 14 15 16 17 18 19 20]\n",
      "[ 0  2  3  4  5  6  7 12 13 14]\n",
      "[3 2 2 2 1 1 1 1 1 1]\n"
     ]
    }
   ],
   "source": [
    "# unique() in Numpy. It removes the duplicate elements and prints the array in sorted form.\n",
    "a = np.array([11, 11, 12, 13, 14, 15, 16, 17, 12, 13, 11, 14, 18, 19, 20])\n",
    "unique,counts,indices=np.unique(a,return_counts=True,return_index=True)\n",
    "print(unique)\n",
    "print(counts) # counts how many times the element appeared in the array.\n",
    "print(indices) # it returns the indices of first occurences of the unique value at the array."
   ]
  },
  {
   "cell_type": "code",
   "execution_count": 28,
   "id": "1dc042cf-76cb-4971-a866-a21489c05635",
   "metadata": {},
   "outputs": [
    {
     "name": "stdout",
     "output_type": "stream",
     "text": [
      "[ 1  2  3  4  5  6  7  8  9 10 11 12]\n",
      "[[ 1  2  3  4]\n",
      " [ 5  6  7  8]\n",
      " [ 9 10 11 12]]\n"
     ]
    }
   ],
   "source": [
    "# unique in matrices\n",
    "a_2d=np.array([[1,2,3,4],[5,6,7,8],[9,10,11,12],[1,2,3,4]])\n",
    "unique=np.unique(a_2d)\n",
    "print(unique)\n",
    "unique_rows=np.unique(a_2d,axis=0) # to print the unique rows axis must be specified.\n",
    "print(unique_rows)"
   ]
  },
  {
   "cell_type": "code",
   "execution_count": 38,
   "id": "e023da3a-86f2-44c2-9de7-5ac6a8c5aca9",
   "metadata": {},
   "outputs": [
    {
     "name": "stdout",
     "output_type": "stream",
     "text": [
      "[[0 1 2]\n",
      " [3 4 5]]\n"
     ]
    },
    {
     "data": {
      "text/plain": [
       "array([[0, 3],\n",
       "       [1, 4],\n",
       "       [2, 5]])"
      ]
     },
     "execution_count": 38,
     "metadata": {},
     "output_type": "execute_result"
    }
   ],
   "source": [
    "#transpose of the matrix\n",
    "arr=np.arange(6).reshape((2,3))\n",
    "print(arr)\n",
    "arr.transpose()  # or arr.T"
   ]
  },
  {
   "cell_type": "code",
   "execution_count": 44,
   "id": "e1999af7-113b-4498-8cf9-c43fae6973fd",
   "metadata": {},
   "outputs": [
    {
     "name": "stdout",
     "output_type": "stream",
     "text": [
      "[[ 1  2  3  4]\n",
      " [ 5  6  7  8]\n",
      " [ 9 10 11 12]]\n",
      "[[12 11 10  9]\n",
      " [ 8  7  6  5]\n",
      " [ 4  3  2  1]]\n",
      "[[ 9 10 11 12]\n",
      " [ 5  6  7  8]\n",
      " [ 1  2  3  4]]\n",
      "[[ 4  3  2  1]\n",
      " [ 8  7  6  5]\n",
      " [12 11 10  9]]\n"
     ]
    }
   ],
   "source": [
    "# flip in 2D array\n",
    "arr=np.array([[1,2,3,4],[5,6,7,8],[9,10,11,12]])\n",
    "print(arr)\n",
    "flip_both_axis=np.flip(arr)\n",
    "print(flip_both_axis)\n",
    "flip_row=np.flip(arr,axis=0)\n",
    "print(flip_row)\n",
    "flip_col=np.flip(arr,axis=1)\n",
    "print(flip_col)"
   ]
  },
  {
   "cell_type": "code",
   "execution_count": 48,
   "id": "f3e56eb1-acb4-4750-9e50-4abac5167033",
   "metadata": {},
   "outputs": [
    {
     "name": "stdout",
     "output_type": "stream",
     "text": [
      "[[1 2 3]\n",
      " [4 5 6]\n",
      " [7 8 9]]\n",
      "[[1 2 3]\n",
      " [6 5 4]\n",
      " [7 8 9]]\n",
      "[[1 8 3]\n",
      " [6 5 4]\n",
      " [7 2 9]]\n"
     ]
    }
   ],
   "source": [
    "# specific row and column flip\n",
    "a=np.array([[1,2,3],[4,5,6],[7,8,9]])\n",
    "print(a)\n",
    "a[1]=np.flip(a[1]) # the row 1 of the array gets reversed.\n",
    "print(a)\n",
    "a[:,1]=np.flip(a[:,1])\n",
    "print(a)"
   ]
  },
  {
   "cell_type": "code",
   "execution_count": 53,
   "id": "3d6ffa24-925a-4bf8-94ec-decfeb868a9b",
   "metadata": {},
   "outputs": [
    {
     "name": "stdout",
     "output_type": "stream",
     "text": [
      "[[ 1  2  3  4]\n",
      " [ 5  6  7  8]\n",
      " [ 9 10 11 12]]\n",
      "[99  2  3  4  5  6  7  8  9 10 11 12]\n"
     ]
    }
   ],
   "source": [
    "# use of flatten in numpy\n",
    "x=np.array([[1,2,3,4],[5,6,7,8],[9,10,11,12]])\n",
    "a1=x.flatten()\n",
    "a1[0]=99\n",
    "print(x) # here orignal array remains safe.\n",
    "print(a1)"
   ]
  },
  {
   "cell_type": "code",
   "execution_count": 54,
   "id": "b6bcdea8-480c-4f41-86c9-5fb2c679bd64",
   "metadata": {},
   "outputs": [
    {
     "name": "stdout",
     "output_type": "stream",
     "text": [
      "[[99  2  3  4]\n",
      " [ 5  6  7  8]\n",
      " [ 9 10 11 12]]\n",
      "[99  2  3  4  5  6  7  8  9 10 11 12]\n"
     ]
    }
   ],
   "source": [
    "# use of ravel in numpy\n",
    "x=np.array([[1,2,3,4],[5,6,7,8],[9,10,11,12]])\n",
    "a1=x.ravel()\n",
    "a1[0]=99\n",
    "print(x) # here orignal array changes.\n",
    "print(a1)"
   ]
  },
  {
   "cell_type": "code",
   "execution_count": null,
   "id": "41d01d75-ee70-45d0-9fed-75a081f97081",
   "metadata": {},
   "outputs": [],
   "source": []
  }
 ],
 "metadata": {
  "kernelspec": {
   "display_name": "Python 3 (ipykernel)",
   "language": "python",
   "name": "python3"
  },
  "language_info": {
   "codemirror_mode": {
    "name": "ipython",
    "version": 3
   },
   "file_extension": ".py",
   "mimetype": "text/x-python",
   "name": "python",
   "nbconvert_exporter": "python",
   "pygments_lexer": "ipython3",
   "version": "3.12.2"
  }
 },
 "nbformat": 4,
 "nbformat_minor": 5
}
