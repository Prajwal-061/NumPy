{
 "cells": [
  {
   "cell_type": "markdown",
   "id": "9202bebb-0575-46af-b2b4-bfc550cc9d3f",
   "metadata": {},
   "source": [
    "# BOOK RECOMMENDATION SYSTEM USING NUMPY"
   ]
  },
  {
   "cell_type": "code",
   "execution_count": null,
   "id": "b07c2e75-7056-4ef8-8d24-6db2cdbd52a1",
   "metadata": {},
   "outputs": [],
   "source": []
  }
 ],
 "metadata": {
  "kernelspec": {
   "display_name": "Python 3 (ipykernel)",
   "language": "python",
   "name": "python3"
  },
  "language_info": {
   "codemirror_mode": {
    "name": "ipython",
    "version": 3
   },
   "file_extension": ".py",
   "mimetype": "text/x-python",
   "name": "python",
   "nbconvert_exporter": "python",
   "pygments_lexer": "ipython3",
   "version": "3.12.2"
  }
 },
 "nbformat": 4,
 "nbformat_minor": 5
}
