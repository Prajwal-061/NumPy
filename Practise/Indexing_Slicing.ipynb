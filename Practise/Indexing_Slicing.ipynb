{
 "cells": [
  {
   "cell_type": "code",
   "execution_count": 2,
   "id": "260c79eb-4bb2-4983-a1a4-8c7d5353a244",
   "metadata": {},
   "outputs": [
    {
     "name": "stdout",
     "output_type": "stream",
     "text": [
      "10\n",
      "30\n",
      "50\n",
      "30\n",
      "10\n"
     ]
    }
   ],
   "source": [
    "#indexing\n",
    "import numpy as np\n",
    "arr=np.array([10,20,30,40,50])\n",
    "print(arr[0])\n",
    "print(arr[2])\n",
    "print(arr[-1])\n",
    "print(arr[-3])\n",
    "print(arr[-5])"
   ]
  },
  {
   "cell_type": "code",
   "execution_count": 6,
   "id": "ca1845e6-0c05-4dc4-be09-586a6e09d727",
   "metadata": {},
   "outputs": [
    {
     "name": "stdout",
     "output_type": "stream",
     "text": [
      "[30 50]\n",
      "[50 40 30 20 10]\n"
     ]
    }
   ],
   "source": [
    "#slicing\n",
    "import numpy as np\n",
    "arr=np.array([10,20,30,40,50])\n",
    "print(arr[2:5:2])\n",
    "print(arr[::-1])"
   ]
  },
  {
   "cell_type": "code",
   "execution_count": 9,
   "id": "e086b23f-a732-4711-8334-751eef6cbf7c",
   "metadata": {},
   "outputs": [
    {
     "name": "stdout",
     "output_type": "stream",
     "text": [
      "[10 30 50]\n"
     ]
    }
   ],
   "source": [
    "# facny indexing\n",
    "import numpy as np \n",
    "arr=np.array([10,20,30,40,50,60])\n",
    "print(arr[[0,2,4]])\n"
   ]
  },
  {
   "cell_type": "code",
   "execution_count": 10,
   "id": "a3d67d0a-4a9d-4c6e-b77a-053facd024ad",
   "metadata": {},
   "outputs": [
    {
     "name": "stdout",
     "output_type": "stream",
     "text": [
      "[30 40 50]\n"
     ]
    }
   ],
   "source": [
    "# filtering(Boolean Masking)\n",
    "import numpy as np\n",
    "arr=np.array([10,20,30,40,50])\n",
    "print(arr[arr>25])"
   ]
  },
  {
   "cell_type": "code",
   "execution_count": 12,
   "id": "f8061da2-64da-4349-a3cb-5b057d65045a",
   "metadata": {},
   "outputs": [
    {
     "name": "stdout",
     "output_type": "stream",
     "text": [
      "[False False  True  True  True]\n",
      "[30 40 50]\n"
     ]
    }
   ],
   "source": [
    "# Boolean Indexing/filtering\n",
    "import numpy as np\n",
    "arr=np.array([10,20,30,40,50])\n",
    "mask=arr>25\n",
    "print(mask)\n",
    "\n",
    "filtered_array=arr[mask]\n",
    "print(filtered_array)\n"
   ]
  },
  {
   "cell_type": "code",
   "execution_count": null,
   "id": "7d857fa5-009d-48c0-92c0-5c75a9dda6d4",
   "metadata": {},
   "outputs": [],
   "source": []
  }
 ],
 "metadata": {
  "kernelspec": {
   "display_name": "Python 3 (ipykernel)",
   "language": "python",
   "name": "python3"
  },
  "language_info": {
   "codemirror_mode": {
    "name": "ipython",
    "version": 3
   },
   "file_extension": ".py",
   "mimetype": "text/x-python",
   "name": "python",
   "nbconvert_exporter": "python",
   "pygments_lexer": "ipython3",
   "version": "3.12.2"
  }
 },
 "nbformat": 4,
 "nbformat_minor": 5
}
