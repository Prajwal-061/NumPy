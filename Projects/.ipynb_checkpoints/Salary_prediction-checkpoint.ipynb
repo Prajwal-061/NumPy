{
 "cells": [
  {
   "cell_type": "markdown",
   "id": "8bb99146-0f82-4f2f-aa5c-4f627cc28f98",
   "metadata": {},
   "source": [
    "# SALARY PREDICTION USING NUMPY ONLY"
   ]
  },
  {
   "cell_type": "code",
   "execution_count": 3,
   "id": "1309084c-a5d2-49ab-8c8f-8f519f7ccc1e",
   "metadata": {},
   "outputs": [],
   "source": [
    "import numpy as np\n",
    "# Experience independent variable\n",
    "x=np.array([1,2,3,4,5,6,7,8,9,10])\n",
    "\n",
    "#Salary dependent variable\n",
    "y=np.array([40,45,50,55,60,65,70,75,80,85])\n"
   ]
  },
  {
   "cell_type": "code",
   "execution_count": 4,
   "id": "b91a0b43-7984-46d3-b18a-fd629bb4e251",
   "metadata": {},
   "outputs": [],
   "source": [
    "def mean_squared_error(y_true, y_pred):\n",
    "    error = y_true - y_pred\n",
    "    squared_error = error ** 2\n",
    "    mse = np.mean(squared_error)\n",
    "    return mse\n"
   ]
  },
  {
   "cell_type": "code",
   "execution_count": 6,
   "id": "cd2cbf24-1cdc-4732-b7af-31d55a5d1959",
   "metadata": {},
   "outputs": [
    {
     "name": "stdout",
     "output_type": "stream",
     "text": [
      "Mean Squared Error: 48.8\n"
     ]
    }
   ],
   "source": [
    "# True salaries\n",
    "y = np.array([40, 45, 50, 55, 60, 65, 70, 75, 80, 85])\n",
    "\n",
    "# Predicted salaries \n",
    "y_pred = np.array([60,45,50,55,61,71,65,75,81,90])\n",
    "\n",
    "# Compute MSE\n",
    "mse = mean_squared_error(y, y_pred)\n",
    "print(f\"Mean Squared Error: {mse}\")\n"
   ]
  },
  {
   "cell_type": "code",
   "execution_count": null,
   "id": "01a4650c-99c2-4623-bf43-a8053da8ebf6",
   "metadata": {},
   "outputs": [],
   "source": []
  }
 ],
 "metadata": {
  "kernelspec": {
   "display_name": "Python 3 (ipykernel)",
   "language": "python",
   "name": "python3"
  },
  "language_info": {
   "codemirror_mode": {
    "name": "ipython",
    "version": 3
   },
   "file_extension": ".py",
   "mimetype": "text/x-python",
   "name": "python",
   "nbconvert_exporter": "python",
   "pygments_lexer": "ipython3",
   "version": "3.12.2"
  }
 },
 "nbformat": 4,
 "nbformat_minor": 5
}
