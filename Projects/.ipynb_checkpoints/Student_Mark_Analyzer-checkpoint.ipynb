{
 "cells": [
  {
   "cell_type": "code",
   "execution_count": 2,
   "id": "4c01b2bf-91ad-4fc0-b6dd-62a13a0abd07",
   "metadata": {},
   "outputs": [
    {
     "name": "stdout",
     "output_type": "stream",
     "text": [
      "Marks Array:\n",
      " [[85 90 78 94]\n",
      " [76 88 82 79]\n",
      " [91 88 81 84]\n",
      " [68 74 69 70]\n",
      " [88 89 79 96]]\n",
      "Shape: (5, 4)\n"
     ]
    }
   ],
   "source": [
    "import numpy as np\n",
    "# rows are the number of students and columns determines the marks in each subject of a student.\n",
    "marks=np.array([\n",
    "    [85,90,78,94],\n",
    "    [76,88,82,79],\n",
    "    [91,88,81,84],\n",
    "    [68,74,69,70],\n",
    "    [88,89,79,96]\n",
    "])\n",
    "print(\"Marks Array:\\n\", marks)\n",
    "print(\"Shape:\",marks.shape)"
   ]
  },
  {
   "cell_type": "code",
   "execution_count": 3,
   "id": "11f477de-d882-4f18-808b-1b953b4b91ea",
   "metadata": {},
   "outputs": [
    {
     "name": "stdout",
     "output_type": "stream",
     "text": [
      "Total marks per student: [347 325 344 281 352]\n",
      "Average marks per student: [86.75 81.25 86.   70.25 88.  ]\n",
      "Maximum marks per student: [94 88 91 74 96]\n",
      "Minimum marks per student: [78 76 81 68 79]\n"
     ]
    }
   ],
   "source": [
    "# calculating average,total,max ,min per student\n",
    "max_per_student=marks.max(axis=1)\n",
    "average_per_student=marks.mean(axis=1)\n",
    "min_per_student=marks.min(axis=1)\n",
    "total_per_student=marks.sum(axis=1)\n",
    "print(\"Total marks per student:\",total_per_student)\n",
    "print(\"Average marks per student:\",average_per_student)\n",
    "print(\"Maximum marks per student:\",max_per_student)\n",
    "print(\"Minimum marks per student:\",min_per_student)\n"
   ]
  },
  {
   "cell_type": "code",
   "execution_count": 5,
   "id": "0540cf26-a764-4b51-b8fc-84085396d24e",
   "metadata": {},
   "outputs": [
    {
     "name": "stdout",
     "output_type": "stream",
     "text": [
      "[[ True  True  True  True]\n",
      " [ True  True  True  True]\n",
      " [ True  True  True  True]\n",
      " [ True  True  True  True]\n",
      " [ True  True  True  True]]\n",
      "[ True  True  True  True  True]\n",
      "Student 1:Pass\n",
      "Student 2:Pass\n",
      "Student 3:Pass\n",
      "Student 4:Pass\n",
      "Student 5:Pass\n"
     ]
    }
   ],
   "source": [
    "# Checking pass or fail logic\n",
    "subject_pass= marks>=40\n",
    "all_subjects_pass=np.all(subject_pass,axis=1)\n",
    "#print(subject_pass)\n",
    "#print(all_subjects_pass)\n",
    "avg_marks=np.mean(marks,axis=1)\n",
    "avg_pass=avg_marks>=50\n",
    "final_pass=all_subjects_pass & avg_pass\n",
    "#print(final_pass)\n",
    "for i in range (len(final_pass)):\n",
    "    status=\"Pass\" if final_pass[i] else \"fail\"\n",
    "    print(f\"Student {i+1}:{status}\")\n"
   ]
  },
  {
   "cell_type": "code",
   "execution_count": 18,
   "id": "55a87d14-c536-4140-970c-130e2f472751",
   "metadata": {},
   "outputs": [
    {
     "name": "stdout",
     "output_type": "stream",
     "text": [
      "['' '' '' '' '']\n",
      "['B' 'B' 'B' 'C' 'B']\n",
      "Student 1 | Average:86.75 | Grade:B\n",
      "Student 2 | Average:81.25 | Grade:B\n",
      "Student 3 | Average:86.0 | Grade:B\n",
      "Student 4 | Average:70.25 | Grade:C\n",
      "Student 5 | Average:88.0 | Grade:B\n"
     ]
    }
   ],
   "source": [
    "# Grade Assignment to the student\n",
    "averages=np.mean(marks,axis=1)\n",
    "grades=np.empty_like(averages,dtype='U1') # creates the empty array with the same shape as averages.\n",
    "#print(grades)\n",
    "grades[averages>=90]='A'\n",
    "grades[(averages >= 80) & (averages < 90)] = 'B'\n",
    "grades[(averages >= 70) & (averages < 80)] = 'C'\n",
    "grades[(averages >= 60) & (averages < 70)] = 'D'\n",
    "grades[averages < 60] = 'F'\n",
    "#print(grades)\n",
    "for i in range(len(grades)):\n",
    "    print(f\"Student {i+1} | Average:{averages[i]} | Grade:{grades[i]}\")\n",
    "    \n"
   ]
  },
  {
   "cell_type": "code",
   "execution_count": 8,
   "id": "687bb728-964f-4aff-a641-76cbcd22cd27",
   "metadata": {},
   "outputs": [
    {
     "name": "stdout",
     "output_type": "stream",
     "text": [
      "Highest in each subject: [91 90 82 96]\n",
      "Lowest in each subject: [68 74 69 70]\n",
      "Subject1:Highest:91,Lowest:68\n",
      "Subject2:Highest:90,Lowest:74\n",
      "Subject3:Highest:82,Lowest:69\n",
      "Subject4:Highest:96,Lowest:70\n"
     ]
    }
   ],
   "source": [
    "# highest and lowest according to the subjects\n",
    "highest_sub=marks.max(axis=0)\n",
    "lowest_sub=marks.min(axis=0)\n",
    "print(\"Highest in each subject:\",highest_sub)\n",
    "print(\"Lowest in each subject:\",lowest_sub)\n",
    "for i in range(marks.shape[1]):\n",
    "    print(f\"Subject{i+1}:Highest:{highest_sub[i]},Lowest:{lowest_sub[i]}\")"
   ]
  },
  {
   "cell_type": "code",
   "execution_count": 25,
   "id": "e208ac82-642b-4c45-a85e-6e2b5607b2f1",
   "metadata": {},
   "outputs": [
    {
     "name": "stdout",
     "output_type": "stream",
     "text": [
      "[347 325 344 281 352]\n",
      "[352 347 344 325 281]\n",
      "[4 0 2 1 3]\n",
      "Rank:1:Student 5 with total:352\n",
      "Rank:2:Student 1 with total:347\n",
      "Rank:3:Student 3 with total:344\n",
      "Rank:4:Student 2 with total:325\n",
      "Rank:5:Student 4 with total:281\n"
     ]
    }
   ],
   "source": [
    "# Ranking students based on total marks\n",
    "totals=np.sum(marks,axis=1)\n",
    "print(totals)\n",
    "sort_total=-np.sort(-totals)\n",
    "sort_indices=np.argsort(-totals)\n",
    "print(sort_total)\n",
    "print(sort_indices)\n",
    "for i in range(len(sort_total)):\n",
    "    print(f\"Rank:{i+1}:Student {sort_indices[i]+1} with total:{sort_total[i]}\")"
   ]
  },
  {
   "cell_type": "code",
   "execution_count": null,
   "id": "8698302d-d05e-47e8-8b8e-2c5abb406c5d",
   "metadata": {},
   "outputs": [],
   "source": []
  }
 ],
 "metadata": {
  "kernelspec": {
   "display_name": "Python 3 (ipykernel)",
   "language": "python",
   "name": "python3"
  },
  "language_info": {
   "codemirror_mode": {
    "name": "ipython",
    "version": 3
   },
   "file_extension": ".py",
   "mimetype": "text/x-python",
   "name": "python",
   "nbconvert_exporter": "python",
   "pygments_lexer": "ipython3",
   "version": "3.12.2"
  }
 },
 "nbformat": 4,
 "nbformat_minor": 5
}
