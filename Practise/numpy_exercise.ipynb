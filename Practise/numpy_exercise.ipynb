{
 "cells": [
  {
   "cell_type": "markdown",
   "id": "99f1a070",
   "metadata": {},
   "source": [
    "At **AtliQ**, a software service company, the **HR team** wants to understand how happy employees are with company policies and how long they've been with the company. This survey aims to help HR improve the work environment and keep employees satisfied.\n",
    "\n",
    "**Data Structure:** Two numpy arrays capture survey results and employee details:\n",
    "\n",
    "**Employee Details:** Contains Employee ID, Department, and Number of Years with AtliQ.\n",
    "\n",
    "**Survey Results:** Contains Employee ID and Happiness Score (scaled 1-10)."
   ]
  },
  {
   "cell_type": "code",
   "execution_count": 61,
   "id": "ec997f5a",
   "metadata": {},
   "outputs": [],
   "source": [
    "import numpy as np\n",
    "\n",
    "# Employee Details: Employee ID, Department, Number of Years with AtliQ\n",
    "employee_details = np.array([\n",
    "    [101, 'Sales', 3],  \n",
    "    [102, 'HR', 5],    \n",
    "    [103, 'IT', 2],        \n",
    "    [104, 'Sales', 8],    \n",
    "    [105, 'IT', 6],      \n",
    "    [106, 'HR', 4],           \n",
    "    [107, 'IT', 7],    \n",
    "    [108, 'Sales', 1], \n",
    "    [109, 'HR', 3]          \n",
    "])\n",
    "\n",
    "# Survey Results: Employee ID, Happiness Score (1-10)\n",
    "survey_results = np.array([\n",
    "    [101, 8],\n",
    "    [102, 10],\n",
    "    [103, 9],\n",
    "    [104, 6],\n",
    "    [105, 7],\n",
    "    [106, 8],\n",
    "    [107, 9],\n",
    "    [108, 5],\n",
    "    [109, 7]\n",
    "])\n"
   ]
  },
  {
   "cell_type": "markdown",
   "id": "d2a4d20d",
   "metadata": {},
   "source": [
    "### Task 1: Merge Arrays\n",
    "\n",
    "**Scenario:** To streamline analysis, combine the employee details with their survey results.\n",
    "\n",
    "**Action:** Use ```np.hstack``` to horizontally stack the two arrays."
   ]
  },
  {
   "cell_type": "code",
   "execution_count": 62,
   "id": "6f15bb12",
   "metadata": {},
   "outputs": [
    {
     "data": {
      "text/plain": [
       "array([['101', 'Sales', '3', '101', '8'],\n",
       "       ['102', 'HR', '5', '102', '10'],\n",
       "       ['103', 'IT', '2', '103', '9'],\n",
       "       ['104', 'Sales', '8', '104', '6'],\n",
       "       ['105', 'IT', '6', '105', '7'],\n",
       "       ['106', 'HR', '4', '106', '8'],\n",
       "       ['107', 'IT', '7', '107', '9'],\n",
       "       ['108', 'Sales', '1', '108', '5'],\n",
       "       ['109', 'HR', '3', '109', '7']], dtype='<U11')"
      ]
     },
     "execution_count": 62,
     "metadata": {},
     "output_type": "execute_result"
    }
   ],
   "source": [
    "# write code here\n",
    "merged_array=np.hstack((employee_details,survey_results))\n",
    "merged_array"
   ]
  },
  {
   "cell_type": "markdown",
   "id": "f6a93493",
   "metadata": {},
   "source": [
    "### Task 2: Print Scores\n",
    "\n",
    "**Scenario:** HR wants a quick view of all happiness scores to gauge overall employee sentiment.\n",
    "\n",
    "**Action:** Display all happiness scores from the merged array."
   ]
  },
  {
   "cell_type": "code",
   "execution_count": 63,
   "id": "6465fc6f",
   "metadata": {},
   "outputs": [
    {
     "name": "stdout",
     "output_type": "stream",
     "text": [
      "Happiness score of the employees are:\n",
      "8\n",
      "10\n",
      "9\n",
      "6\n",
      "7\n",
      "8\n",
      "9\n",
      "5\n",
      "7\n"
     ]
    }
   ],
   "source": [
    "# write code here\n",
    "happiness_score=merged_array[:,4]\n",
    "print(\"Happiness score of the employees are:\")\n",
    "for score in happiness_score:\n",
    "    print(score)"
   ]
  },
  {
   "cell_type": "markdown",
   "id": "18313d6c",
   "metadata": {},
   "source": [
    "### Task 3: Sort Scores\n",
    "\n",
    "**Scenario:** HR needs to identify the range of happiness scores to plan specific interventions.\n",
    "\n",
    "**Action:** Sort and print the happiness scores in ascending order."
   ]
  },
  {
   "cell_type": "code",
   "execution_count": 64,
   "id": "388a42b8",
   "metadata": {
    "scrolled": true
   },
   "outputs": [
    {
     "name": "stdout",
     "output_type": "stream",
     "text": [
      "[ 5  6  7  7  8  8  9  9 10]\n"
     ]
    }
   ],
   "source": [
    "# write code here\n",
    "sorted_happiness_score=happiness_score.astype(int)\n",
    "print(np.sort(sorted_happiness_score))"
   ]
  },
  {
   "cell_type": "markdown",
   "id": "f8167f59",
   "metadata": {},
   "source": [
    "### Task 4: Employee Details\n",
    "\n",
    "**Scenario:** For a meeting, HR needs a list of employees' IDs and departments without other details.\n",
    "\n",
    "**Action:** Iterate through the array and print each employee's ID and department."
   ]
  },
  {
   "cell_type": "code",
   "execution_count": 88,
   "id": "504c7fba",
   "metadata": {},
   "outputs": [
    {
     "name": "stdout",
     "output_type": "stream",
     "text": [
      "[['101' 'Sales']\n",
      " ['102' 'HR']\n",
      " ['103' 'IT']\n",
      " ['104' 'Sales']\n",
      " ['105' 'IT']\n",
      " ['106' 'HR']\n",
      " ['107' 'IT']\n",
      " ['108' 'Sales']\n",
      " ['109' 'HR']]\n",
      "Employee_id:101,Department:Sales\n",
      "Employee_id:102,Department:HR\n",
      "Employee_id:103,Department:IT\n",
      "Employee_id:104,Department:Sales\n",
      "Employee_id:105,Department:IT\n",
      "Employee_id:106,Department:HR\n",
      "Employee_id:107,Department:IT\n",
      "Employee_id:108,Department:Sales\n",
      "Employee_id:109,Department:HR\n"
     ]
    }
   ],
   "source": [
    "# write code here\n",
    "Employee_id=merged_array[:,0]\n",
    "#print(Employee_id)\n",
    "Employee_department=merged_array[:,1]\n",
    "#print(Employee_department)\n",
    "combine=np.vstack((Employee_id,Employee_department)).T\n",
    "print(combine)\n",
    "for row in combine:\n",
    "    print(f\"Employee_id:{row[0]},Department:{row[1]}\")"
   ]
  },
  {
   "cell_type": "markdown",
   "id": "586b7e31",
   "metadata": {},
   "source": [
    "### Task 5: Happiness Scores\n",
    "\n",
    "**Scenario:** HR wants to review individual happiness scores to follow up with specific departments or employees.\n",
    "\n",
    "**Action:** Print the happiness score alongside each employee ID from the merged array."
   ]
  },
  {
   "cell_type": "code",
   "execution_count": 86,
   "id": "1584d882",
   "metadata": {},
   "outputs": [
    {
     "name": "stdout",
     "output_type": "stream",
     "text": [
      "[['101' '8']\n",
      " ['102' '10']\n",
      " ['103' '9']\n",
      " ['104' '6']\n",
      " ['105' '7']\n",
      " ['106' '8']\n",
      " ['107' '9']\n",
      " ['108' '5']\n",
      " ['109' '7']]\n",
      "Employee_ID:101, Happiness Score:8\n",
      "Employee_ID:102, Happiness Score:10\n",
      "Employee_ID:103, Happiness Score:9\n",
      "Employee_ID:104, Happiness Score:6\n",
      "Employee_ID:105, Happiness Score:7\n",
      "Employee_ID:106, Happiness Score:8\n",
      "Employee_ID:107, Happiness Score:9\n",
      "Employee_ID:108, Happiness Score:5\n",
      "Employee_ID:109, Happiness Score:7\n"
     ]
    }
   ],
   "source": [
    "# write code here\n",
    "score=merged_array[:,4]\n",
    "#print(score)\n",
    "Id=merged_array[:,0]\n",
    "#print(Id)\n",
    "merged=np.vstack((Id,score)).T\n",
    "print(merged)\n",
    "for row in merged:\n",
    "    print(f\"Employee_ID:{row[0]}, Happiness Score:{row[1]}\")\n",
    "                 "
   ]
  },
  {
   "cell_type": "markdown",
   "id": "3d9a92ef",
   "metadata": {},
   "source": [
    "### Task 6: Convert Scores\n",
    "\n",
    "**Scenario:** For statistical analysis, the HR team needs the happiness scores in a consistent format.\n",
    "\n",
    "**Action:** Convert the happiness scores to float type using ```astype(float)```."
   ]
  },
  {
   "cell_type": "code",
   "execution_count": 67,
   "id": "050ee1ae",
   "metadata": {},
   "outputs": [
    {
     "name": "stdout",
     "output_type": "stream",
     "text": [
      "8.0\n",
      "10.0\n",
      "9.0\n",
      "6.0\n",
      "7.0\n",
      "8.0\n",
      "9.0\n",
      "5.0\n",
      "7.0\n"
     ]
    }
   ],
   "source": [
    "# write code here\n",
    "converted_score=happiness_score.astype(float)\n",
    "for score in converted_score:\n",
    "    print(score)"
   ]
  },
  {
   "cell_type": "markdown",
   "id": "d16afb33",
   "metadata": {},
   "source": [
    "### Task 7: Average Score\n",
    "\n",
    "**Scenario:** To measure the effectiveness of current policies, HR needs the average happiness score.\n",
    "\n",
    "**Action:** Calculate and print the average happiness score of all employees."
   ]
  },
  {
   "cell_type": "code",
   "execution_count": 68,
   "id": "94086c24",
   "metadata": {},
   "outputs": [
    {
     "data": {
      "text/plain": [
       "7.666666666666667"
      ]
     },
     "execution_count": 68,
     "metadata": {},
     "output_type": "execute_result"
    }
   ],
   "source": [
    "avg_happiness_score=np.mean(merged_array[:,4].astype(int))\n",
    "avg_happiness_score"
   ]
  },
  {
   "cell_type": "markdown",
   "id": "86902984",
   "metadata": {},
   "source": [
    "### Task 8: Unique Departments\n",
    "\n",
    "**Scenario:** HR is reviewing which departments are represented in the survey to ensure all are included in future plans.\n",
    "\n",
    "**Action:** Use ```np.unique``` to find and print all unique departments from the employee details."
   ]
  },
  {
   "cell_type": "code",
   "execution_count": 44,
   "id": "b95ca0ef",
   "metadata": {},
   "outputs": [
    {
     "name": "stdout",
     "output_type": "stream",
     "text": [
      "['Sales' 'HR' 'IT' 'Sales' 'IT' 'HR' 'IT' 'Sales' 'HR']\n",
      "Sales\n",
      "HR\n",
      "IT\n",
      "Sales\n",
      "IT\n",
      "HR\n",
      "IT\n",
      "Sales\n",
      "HR\n"
     ]
    }
   ],
   "source": [
    "# first print departments from all the records\n",
    "departments=merged_array[:,1]\n",
    "print(departments)\n",
    "for dept in departments:\n",
    "    print(dept)\n",
    "# write code here"
   ]
  },
  {
   "cell_type": "code",
   "execution_count": 45,
   "id": "8b567172",
   "metadata": {},
   "outputs": [
    {
     "name": "stdout",
     "output_type": "stream",
     "text": [
      "['HR' 'IT' 'Sales']\n"
     ]
    }
   ],
   "source": [
    "# now print unique departments\n",
    "print(np.unique(departments))\n",
    "# write code here"
   ]
  },
  {
   "cell_type": "markdown",
   "id": "5707cbae",
   "metadata": {},
   "source": [
    "### Task 9: HR Happiness\n",
    "\n",
    "**Scenario:** HR is conducting a self-assessment to understand how their own department perceives company policies.\n",
    "\n",
    "**Action:** Calculate and print the average happiness score within the HR department."
   ]
  },
  {
   "cell_type": "code",
   "execution_count": 82,
   "id": "2638deb2",
   "metadata": {},
   "outputs": [
    {
     "name": "stdout",
     "output_type": "stream",
     "text": [
      "[['102' 'HR' '5' '102' '10']\n",
      " ['106' 'HR' '4' '106' '8']\n",
      " ['109' 'HR' '3' '109' '7']]\n"
     ]
    },
    {
     "data": {
      "text/plain": [
       "8.333333333333334"
      ]
     },
     "execution_count": 82,
     "metadata": {},
     "output_type": "execute_result"
    }
   ],
   "source": [
    "# First print all the records in HR department\n",
    "hr=np.where(merged_array[:,1]=='HR')\n",
    "#print(hr[0])\n",
    "hr_rows=merged_array[hr[0]]\n",
    "print(hr_rows)\n",
    "avg_happiness_score=np.mean(hr_rows[:,4].astype(int))\n",
    "avg_happiness_score\n",
    "# write code here"
   ]
  },
  {
   "cell_type": "code",
   "execution_count": 80,
   "id": "39ea4122",
   "metadata": {},
   "outputs": [
    {
     "name": "stdout",
     "output_type": "stream",
     "text": [
      "[[10.]\n",
      " [ 8.]\n",
      " [ 7.]]\n"
     ]
    }
   ],
   "source": [
    "# Now from these records only print  the happiness score column. Convert that to float using astype(float) function\n",
    "happiness_score_col=hr_rows[:,4].astype(float)\n",
    "print(happiness_score_col.reshape(3,1)\n",
    "# write code here"
   ]
  },
  {
   "cell_type": "code",
   "execution_count": 78,
   "id": "5c836bbb",
   "metadata": {},
   "outputs": [
    {
     "data": {
      "text/plain": [
       "8.333333333333334"
      ]
     },
     "execution_count": 78,
     "metadata": {},
     "output_type": "execute_result"
    }
   ],
   "source": [
    "# Take an average of this column using np.mean() function\n",
    "mean=np.mean(happiness_score_col)\n",
    "mean\n",
    "# write code here"
   ]
  },
  {
   "cell_type": "code",
   "execution_count": null,
   "id": "9ddbcc3d-ef97-48f0-a808-c4b690b0372a",
   "metadata": {},
   "outputs": [],
   "source": []
  }
 ],
 "metadata": {
  "kernelspec": {
   "display_name": "Python 3 (ipykernel)",
   "language": "python",
   "name": "python3"
  },
  "language_info": {
   "codemirror_mode": {
    "name": "ipython",
    "version": 3
   },
   "file_extension": ".py",
   "mimetype": "text/x-python",
   "name": "python",
   "nbconvert_exporter": "python",
   "pygments_lexer": "ipython3",
   "version": "3.12.2"
  }
 },
 "nbformat": 4,
 "nbformat_minor": 5
}
