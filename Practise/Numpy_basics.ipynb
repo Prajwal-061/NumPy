{
 "cells": [
  {
   "cell_type": "code",
   "execution_count": 1,
   "id": "40b70d9c-bc16-48ed-910c-04944cb25cc7",
   "metadata": {},
   "outputs": [
    {
     "name": "stdout",
     "output_type": "stream",
     "text": [
      "[1, 2, 3, 4, 5]\n",
      "[1 2 3 4 5]\n"
     ]
    }
   ],
   "source": [
    "\n",
    "python_list=[1,2,3,4,5]\n",
    "print(python_list)\n",
    "import numpy as np\n",
    "numpy_array=np.array([1,2,3,4,5])\n",
    "print(numpy_array)\n"
   ]
  },
  {
   "cell_type": "code",
   "execution_count": 3,
   "id": "9d4fb0bb-91d3-427d-b31b-2ec2bcbe7947",
   "metadata": {},
   "outputs": [
    {
     "ename": "TypeError",
     "evalue": "zeros() missing required argument 'shape' (pos 0)",
     "output_type": "error",
     "traceback": [
      "\u001b[31m---------------------------------------------------------------------------\u001b[39m",
      "\u001b[31mTypeError\u001b[39m                                 Traceback (most recent call last)",
      "\u001b[36mCell\u001b[39m\u001b[36m \u001b[39m\u001b[32mIn[3]\u001b[39m\u001b[32m, line 3\u001b[39m\n\u001b[32m      1\u001b[39m \u001b[38;5;28;01mimport\u001b[39;00m\u001b[38;5;250m \u001b[39m\u001b[34;01mnumpy\u001b[39;00m\u001b[38;5;250m \u001b[39m\u001b[38;5;28;01mas\u001b[39;00m\u001b[38;5;250m \u001b[39m\u001b[34;01mnp\u001b[39;00m\n\u001b[32m      2\u001b[39m \u001b[38;5;66;03m#cannot leave zeros() empty as it determines the size of array.\u001b[39;00m\n\u001b[32m----> \u001b[39m\u001b[32m3\u001b[39m arr=\u001b[43mnp\u001b[49m\u001b[43m.\u001b[49m\u001b[43mzeros\u001b[49m\u001b[43m(\u001b[49m\u001b[43m)\u001b[49m\n\u001b[32m      4\u001b[39m arr\n",
      "\u001b[31mTypeError\u001b[39m: zeros() missing required argument 'shape' (pos 0)"
     ]
    }
   ],
   "source": [
    "import numpy as np\n",
    "#cannot leave zeros() empty as it determines the size of array.\n",
    "arr=np.zeros()\n",
    "arr"
   ]
  },
  {
   "cell_type": "code",
   "execution_count": 10,
   "id": "f66999c9-cf47-4933-9cca-db32fde84713",
   "metadata": {},
   "outputs": [
    {
     "name": "stdout",
     "output_type": "stream",
     "text": [
      "Arr:[0. 0. 0.]\n",
      "Arr1:[[0. 0.]\n",
      " [0. 0.]\n",
      " [0. 0.]]\n",
      "Arr2:[[0 0 0]\n",
      " [0 0 0]]\n"
     ]
    }
   ],
   "source": [
    "import numpy as np\n",
    "\n",
    "# Zeros function in numpy\n",
    "# it gives single zero only as floating value.\n",
    "arr=np.zeros(3)\n",
    "#it gives the 2D matrix with 3 rows and 2 columns\n",
    "arr1=np.zeros((3,2))\n",
    "# it gives 2D matrix as 2 rows and 3 columns as integer datatypes\n",
    "arr2=np.zeros((2,3),dtype=int)\n",
    "print(f\"Arr:{arr}\")\n",
    "print(f\"Arr1:{arr1}\")\n",
    "print(f\"Arr2:{arr2}\")"
   ]
  },
  {
   "cell_type": "code",
   "execution_count": 11,
   "id": "3c4d7427-9e55-4dff-a18e-2ca6300df37a",
   "metadata": {},
   "outputs": [
    {
     "data": {
      "text/plain": [
       "array([[1., 1., 1.],\n",
       "       [1., 1., 1.]])"
      ]
     },
     "execution_count": 11,
     "metadata": {},
     "output_type": "execute_result"
    }
   ],
   "source": [
    "# ones function in numpy. It is all similar to the zeros function only difference is it prints 1 instead of 0.\n",
    "import numpy as np\n",
    "arr1=np.ones((2,3))\n",
    "arr1"
   ]
  },
  {
   "cell_type": "code",
   "execution_count": 13,
   "id": "e7ce88cc-c881-4bcc-be50-2f50adde8499",
   "metadata": {},
   "outputs": [
    {
     "data": {
      "text/plain": [
       "array([[99.9, 99.9, 99.9],\n",
       "       [99.9, 99.9, 99.9]])"
      ]
     },
     "execution_count": 13,
     "metadata": {},
     "output_type": "execute_result"
    }
   ],
   "source": [
    "# full method in numpy.\n",
    "import numpy as np\n",
    "a=np.full((2,3),99.9)\n",
    "a"
   ]
  },
  {
   "cell_type": "code",
   "execution_count": 15,
   "id": "1ab5e3e1-2c2a-48c4-b123-d5f933ff522b",
   "metadata": {},
   "outputs": [
    {
     "name": "stdout",
     "output_type": "stream",
     "text": [
      "[1 3 5 7 9]\n"
     ]
    }
   ],
   "source": [
    "# range method in nnumpy\n",
    "import numpy as np\n",
    "a= np.arange(1,10,2)\n",
    "print(a)"
   ]
  },
  {
   "cell_type": "code",
   "execution_count": 19,
   "id": "93e0a706-18e5-4420-b8fe-139116eba484",
   "metadata": {},
   "outputs": [
    {
     "name": "stdout",
     "output_type": "stream",
     "text": [
      "[[1. 0. 0.]\n",
      " [0. 1. 0.]\n",
      " [0. 0. 1.]]\n",
      "\n",
      "\n",
      "[[1. 0. 0.]\n",
      " [0. 1. 0.]\n",
      " [0. 0. 1.]\n",
      " [0. 0. 0.]]\n",
      "\n",
      "\n",
      "[[0. 0. 1. 0. 0.]\n",
      " [0. 0. 0. 1. 0.]\n",
      " [0. 0. 0. 0. 1.]\n",
      " [0. 0. 0. 0. 0.]\n",
      " [0. 0. 0. 0. 0.]]\n"
     ]
    }
   ],
   "source": [
    "#identity matrix \n",
    "import numpy as np\n",
    "a=np.eye(3)\n",
    "a1=np.eye(4,3)\n",
    "a2=np.eye(5,5,2)\n",
    "print(a)\n",
    "print(\"\\n\")\n",
    "print(a1)\n",
    "print(\"\\n\")\n",
    "print(a2)"
   ]
  },
  {
   "cell_type": "code",
   "execution_count": 20,
   "id": "fbf2fc1a-dd43-4915-8ddb-7279bac30cf8",
   "metadata": {},
   "outputs": [
    {
     "name": "stdout",
     "output_type": "stream",
     "text": [
      "(2, 4)\n"
     ]
    }
   ],
   "source": [
    "#.shape It gives the dimension of array.\n",
    "import numpy as np\n",
    "arr=np.array([[1,2,3,4],\n",
    "              [3,5,6,3]])\n",
    "print(arr.shape)"
   ]
  },
  {
   "cell_type": "code",
   "execution_count": null,
   "id": "69b072d8-aa8d-4eb4-9dfa-ac2174d9769d",
   "metadata": {},
   "outputs": [
    {
     "name": "stdout",
     "output_type": "stream",
     "text": [
      "8\n",
      "2\n"
     ]
    }
   ],
   "source": [
    "# .size It gives the total number of elements present in array.\n",
    "import numpy as np\n",
    "arr=np.array([[1,2,3,4],\n",
    "              [3,5,6,3]])\n",
    "print(arr.size)\n"
   ]
  },
  {
   "cell_type": "code",
   "execution_count": 24,
   "id": "01af7359-b99a-4461-8b71-21f31d867b25",
   "metadata": {},
   "outputs": [
    {
     "name": "stdout",
     "output_type": "stream",
     "text": [
      "2\n"
     ]
    }
   ],
   "source": [
    "# .ndim It gives the totoal number of dimensions in array.\n",
    "import numpy as np\n",
    "arr=np.array([[1,2,3,4],\n",
    "              [3,5,6,3]])\n",
    "print(arr.ndim)"
   ]
  },
  {
   "cell_type": "code",
   "execution_count": 26,
   "id": "e6a2d6fb-a706-42ef-8183-9b2b73a5bd5a",
   "metadata": {},
   "outputs": [
    {
     "name": "stdout",
     "output_type": "stream",
     "text": [
      "int32\n"
     ]
    }
   ],
   "source": [
    "# .dtype It is used to identify the datatypes of an element in a datatype.\n",
    "import numpy as np\n",
    "arr=np.array([[123,2,3,4],\n",
    "              [3,5,6,3]])\n",
    "print(arr.dtype)"
   ]
  },
  {
   "cell_type": "code",
   "execution_count": 30,
   "id": "58a75754-2e17-4c02-a812-c647cb812a17",
   "metadata": {},
   "outputs": [
    {
     "name": "stdout",
     "output_type": "stream",
     "text": [
      "[['1' '2' '3' '4']\n",
      " ['3' '5' '6' '3']]\n"
     ]
    },
    {
     "data": {
      "text/plain": [
       "dtype('<U11')"
      ]
     },
     "execution_count": 30,
     "metadata": {},
     "output_type": "execute_result"
    }
   ],
   "source": [
    "# .astype() It is used to change the datatypes of element of an array.\n",
    "import numpy as np\n",
    "arr=np.array([[1,2,3,4],\n",
    "              [3,5,6,3]])\n",
    "new_arr=arr.astype(str)\n",
    "print(new_arr)\n",
    "new_arr.dtype"
   ]
  },
  {
   "cell_type": "code",
   "execution_count": null,
   "id": "8e3a2c75-ec0f-46b3-9a57-65b1ff8908df",
   "metadata": {},
   "outputs": [],
   "source": []
  }
 ],
 "metadata": {
  "kernelspec": {
   "display_name": "Python 3 (ipykernel)",
   "language": "python",
   "name": "python3"
  },
  "language_info": {
   "codemirror_mode": {
    "name": "ipython",
    "version": 3
   },
   "file_extension": ".py",
   "mimetype": "text/x-python",
   "name": "python",
   "nbconvert_exporter": "python",
   "pygments_lexer": "ipython3",
   "version": "3.12.2"
  }
 },
 "nbformat": 4,
 "nbformat_minor": 5
}
