{
 "cells": [
  {
   "cell_type": "code",
   "execution_count": 34,
   "id": "dafbfcb7-ecac-4591-8bb5-0197b52c790d",
   "metadata": {},
   "outputs": [
    {
     "name": "stdout",
     "output_type": "stream",
     "text": [
      "[15 25 35]\n",
      "[20 40 60]\n",
      "[100 400 900]\n",
      "[ 5. 10. 15.]\n"
     ]
    }
   ],
   "source": [
    "import numpy as np\n",
    "arr= np.array([10,20,30])\n",
    "print(arr+5)\n",
    "print(arr*2)\n",
    "print(arr**2)\n",
    "print(arr/2)"
   ]
  },
  {
   "cell_type": "code",
   "execution_count": 38,
   "id": "02eef5df-e5b4-4714-b883-96e621210a0a",
   "metadata": {},
   "outputs": [
    {
     "name": "stdout",
     "output_type": "stream",
     "text": [
      "150\n",
      "10\n",
      "4\n",
      "0\n",
      "4\n",
      "30.0\n",
      "14.142135623730951\n",
      "200.0\n"
     ]
    }
   ],
   "source": [
    "import numpy as np\n",
    "arr=np.array([10,20,30,40,50])\n",
    "print(np.sum(arr))\n",
    "print(np.min(arr))\n",
    "print(np.argmax(arr))\n",
    "print(np.argmin(arr))\n",
    "print(np.argmax(arr))\n",
    "print(np.mean(arr))\n",
    "print(np.std(arr))\n",
    "print(np.var(arr))"
   ]
  },
  {
   "cell_type": "code",
   "execution_count": null,
   "id": "c9b78406-6706-4a1c-960f-8f04e8f4024f",
   "metadata": {},
   "outputs": [],
   "source": []
  }
 ],
 "metadata": {
  "kernelspec": {
   "display_name": "Python 3 (ipykernel)",
   "language": "python",
   "name": "python3"
  },
  "language_info": {
   "codemirror_mode": {
    "name": "ipython",
    "version": 3
   },
   "file_extension": ".py",
   "mimetype": "text/x-python",
   "name": "python",
   "nbconvert_exporter": "python",
   "pygments_lexer": "ipython3",
   "version": "3.12.2"
  }
 },
 "nbformat": 4,
 "nbformat_minor": 5
}
