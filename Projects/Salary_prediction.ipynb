{
 "cells": [
  {
   "cell_type": "markdown",
   "id": "8bb99146-0f82-4f2f-aa5c-4f627cc28f98",
   "metadata": {},
   "source": [
    "# SALARY PREDICTION USING NUMPY ONLY"
   ]
  },
  {
   "cell_type": "code",
   "execution_count": 3,
   "id": "1309084c-a5d2-49ab-8c8f-8f519f7ccc1e",
   "metadata": {},
   "outputs": [],
   "source": [
    "import numpy as np\n",
    "# Experience independent variable\n",
    "x=np.array([1,2,3,4,5,6,7,8,9,10])\n",
    "\n",
    "#Salary dependent variable\n",
    "y=np.array([40,45,50,55,60,65,70,75,80,85])\n"
   ]
  },
  {
   "cell_type": "code",
   "execution_count": 4,
   "id": "b91a0b43-7984-46d3-b18a-fd629bb4e251",
   "metadata": {},
   "outputs": [],
   "source": [
    "def mean_squared_error(y_true, y_pred):\n",
    "    error = y_true - y_pred\n",
    "    squared_error = error ** 2\n",
    "    mse = np.mean(squared_error)\n",
    "    return mse\n"
   ]
  },
  {
   "cell_type": "code",
   "execution_count": 6,
   "id": "cd2cbf24-1cdc-4732-b7af-31d55a5d1959",
   "metadata": {},
   "outputs": [
    {
     "name": "stdout",
     "output_type": "stream",
     "text": [
      "Mean Squared Error: 48.8\n"
     ]
    }
   ],
   "source": [
    "# True salaries\n",
    "y = np.array([40, 45, 50, 55, 60, 65, 70, 75, 80, 85])\n",
    "\n",
    "# Predicted salaries \n",
    "y_pred = np.array([60,45,50,55,61,71,65,75,81,90])\n",
    "\n",
    "# Compute MSE\n",
    "mse = mean_squared_error(y, y_pred)\n",
    "print(f\"Mean Squared Error: {mse}\")\n"
   ]
  },
  {
   "cell_type": "code",
   "execution_count": 8,
   "id": "01a4650c-99c2-4623-bf43-a8053da8ebf6",
   "metadata": {},
   "outputs": [
    {
     "name": "stdout",
     "output_type": "stream",
     "text": [
      "Epoch 0: Loss=4112.50, m=7.70, b=1.25\n",
      "Epoch 100: Loss=104.21, m=8.15, b=13.04\n",
      "Epoch 200: Loss=44.91, m=7.07, b=20.58\n",
      "Epoch 300: Loss=19.36, m=6.36, b=25.54\n",
      "Epoch 400: Loss=8.34, m=5.89, b=28.79\n",
      "Epoch 500: Loss=3.60, m=5.59, b=30.92\n",
      "Epoch 600: Loss=1.55, m=5.38, b=32.32\n",
      "Epoch 700: Loss=0.67, m=5.25, b=33.24\n",
      "Epoch 800: Loss=0.29, m=5.17, b=33.85\n",
      "Epoch 900: Loss=0.12, m=5.11, b=34.24\n",
      "Final m: 5.071745393327881, Final b: 34.500521315855046\n"
     ]
    }
   ],
   "source": [
    "# Data\n",
    "X = np.array([1,2,3,4,5,6,7,8,9,10])\n",
    "y = np.array([40,45,50,55,60,65,70,75,80,85])\n",
    "\n",
    "# Initialize m and b\n",
    "m = 0\n",
    "b = 0\n",
    "\n",
    "# Hyperparameters\n",
    "learning_rate = 0.01\n",
    "epochs = 1000   # how many times to update m and b\n",
    "\n",
    "n = len(X)\n",
    "\n",
    "# Gradient Descent\n",
    "for i in range(epochs):\n",
    "    y_pred = m * X + b\n",
    "\n",
    "    # Gradients (partial derivatives)\n",
    "    dm = (-2/n) * np.sum(X * (y - y_pred))\n",
    "    db = (-2/n) * np.sum(y - y_pred)\n",
    "\n",
    "    # Update\n",
    "    m = m - learning_rate * dm\n",
    "    b = b - learning_rate * db\n",
    "\n",
    "    if i % 100 == 0:\n",
    "        loss = mean_squared_error(y, y_pred)\n",
    "        print(f\"Epoch {i}: Loss={loss:.2f}, m={m:.2f}, b={b:.2f}\")\n",
    "print(f\"Final m: {m}, Final b: {b}\")\n"
   ]
  },
  {
   "cell_type": "code",
   "execution_count": 9,
   "id": "0eb4b5d5-1de5-4c00-9fed-2d1bfa9fdd79",
   "metadata": {},
   "outputs": [
    {
     "name": "stdout",
     "output_type": "stream",
     "text": [
      "Predicted Salary for 6.5 years: 67.46686637248627\n"
     ]
    }
   ],
   "source": [
    "experience = 6.5\n",
    "predicted_salary = m * experience + b\n",
    "print(f\"Predicted Salary for {experience} years: {predicted_salary}\")\n"
   ]
  },
  {
   "cell_type": "code",
   "execution_count": null,
   "id": "ba869d8a-8713-4bff-b76b-3ffc8a247273",
   "metadata": {},
   "outputs": [],
   "source": []
  }
 ],
 "metadata": {
  "kernelspec": {
   "display_name": "Python 3 (ipykernel)",
   "language": "python",
   "name": "python3"
  },
  "language_info": {
   "codemirror_mode": {
    "name": "ipython",
    "version": 3
   },
   "file_extension": ".py",
   "mimetype": "text/x-python",
   "name": "python",
   "nbconvert_exporter": "python",
   "pygments_lexer": "ipython3",
   "version": "3.12.2"
  }
 },
 "nbformat": 4,
 "nbformat_minor": 5
}
