{
 "cells": [
  {
   "cell_type": "markdown",
   "id": "9202bebb-0575-46af-b2b4-bfc550cc9d3f",
   "metadata": {},
   "source": [
    "# BOOK RECOMMENDATION SYSTEM USING NUMPY"
   ]
  },
  {
   "cell_type": "code",
   "execution_count": 40,
   "id": "b07c2e75-7056-4ef8-8d24-6db2cdbd52a1",
   "metadata": {},
   "outputs": [],
   "source": [
    "import numpy as np\n",
    "#book details: bookId,BookName,Genre\n",
    "books = np.array([\n",
    "    [1, \"The Alchemist\", \"Fiction\"],\n",
    "    [2, \"Sapiens\", \"History\"],\n",
    "    [3, \"1984\", \"Dystopian\"],\n",
    "    [4, \"Atomic Habits\", \"Self-help\"],\n",
    "    [5, \"The Hobbit\", \"Fantasy\"],\n",
    "    [6, \"Thinking, Fast and Slow\", \"Psychology\"],\n",
    "    [7, \"The Silent Patient\", \"Thriller\"],\n",
    "    [8, \"The Power of Now\", \"Spirituality\"],\n",
    "    [9, \"The Catcher in the Rye\", \"Classic\"],\n",
    "    [10, \"Deep Work\", \"Productivity\"],\n",
    "    [11, \"To Kill a Mockingbird\", \"Classic\"],\n",
    "    [12, \"Educated\", \"Memoir\"],\n",
    "    [13, \"Ikigai\", \"Philosophy\"],\n",
    "    [14, \"Harry Potter and the Sorcerer’s Stone\", \"Fantasy\"],\n",
    "    [15, \"Man’s Search for Meaning\", \"Psychology\"]\n",
    "])\n",
    "\n",
    "# Rows=books,columns=users\n",
    "ratings = np.array([\n",
    "    [5, 4, 0, 5, 4],   # The Alchemist\n",
    "    [4, 0, 5, 0, 5],   # Sapiens\n",
    "    [3, 5, 4, 4, 0],   # 1984\n",
    "    [4, 4, 0, 4, 4],   # Atomic Habits\n",
    "    [5, 4, 3, 0, 0],   # The Hobbit\n",
    "    [0, 5, 4, 4, 5],   # Thinking, Fast and Slow\n",
    "    [4, 0, 5, 5, 4],   # The Silent Patient\n",
    "    [0, 3, 4, 5, 0],   # The Power of Now\n",
    "    [3, 0, 3, 0, 4],   # The Catcher in the Rye\n",
    "    [5, 5, 0, 0, 5],   # Deep Work\n",
    "    [5, 4, 4, 4, 0],   # To Kill a Mockingbird\n",
    "    [0, 0, 5, 4, 5],   # Educated\n",
    "    [4, 4, 0, 5, 5],   # Ikigai\n",
    "    [5, 0, 4, 4, 0],   # Harry Potter\n",
    "    [4, 5, 5, 5, 5],   # Man’s Search for Meaning\n",
    "])\n"
   ]
  },
  {
   "cell_type": "code",
   "execution_count": 41,
   "id": "77007d9d-4e7f-4a45-a8ee-eb6db6c7cac9",
   "metadata": {},
   "outputs": [
    {
     "name": "stdout",
     "output_type": "stream",
     "text": [
      "[4.5, 4.666666666666667, 4.0, 4.0, 4.0, 4.5, 4.5, 4.0, 3.3333333333333335, 5.0, 4.25, 4.666666666666667, 4.5, 4.333333333333333, 4.8]\n",
      "Avg Rating of Book (The Alchemist) is 4.5\n",
      "Avg Rating of Book (Sapiens) is 4.666666666666667\n",
      "Avg Rating of Book (1984) is 4.0\n",
      "Avg Rating of Book (Atomic Habits) is 4.0\n",
      "Avg Rating of Book (The Hobbit) is 4.0\n",
      "Avg Rating of Book (Thinking, Fast and Slow) is 4.5\n",
      "Avg Rating of Book (The Silent Patient) is 4.5\n",
      "Avg Rating of Book (The Power of Now) is 4.0\n",
      "Avg Rating of Book (The Catcher in the Rye) is 3.3333333333333335\n",
      "Avg Rating of Book (Deep Work) is 5.0\n",
      "Avg Rating of Book (To Kill a Mockingbird) is 4.25\n",
      "Avg Rating of Book (Educated) is 4.666666666666667\n",
      "Avg Rating of Book (Ikigai) is 4.5\n",
      "Avg Rating of Book (Harry Potter and the Sorcerer’s Stone) is 4.333333333333333\n",
      "Avg Rating of Book (Man’s Search for Meaning) is 4.8\n"
     ]
    }
   ],
   "source": [
    "# Average_ratings for each book\n",
    "avg_ratings=[]\n",
    "for row in ratings:\n",
    "    valid=row[row>0]\n",
    "    avg=np.mean(valid)\n",
    "    avg_ratings.append(avg)\n",
    "print(avg_ratings) \n",
    "for i in range(len(avg_ratings)):\n",
    "    print(f\"Avg Rating of Book ({books[i][1]}) is {avg_ratings[i]}\")"
   ]
  },
  {
   "cell_type": "code",
   "execution_count": 43,
   "id": "8f8dca8d-5312-48ac-927b-c863c2b9685e",
   "metadata": {},
   "outputs": [
    {
     "name": "stdout",
     "output_type": "stream",
     "text": [
      "Book : Deep Work  has ratings  :5.0\n",
      "Book : Man’s Search for Meaning  has ratings  :4.8\n",
      "Book : Sapiens  has ratings  :4.666666666666667\n",
      "Book : Educated  has ratings  :4.666666666666667\n",
      "Book : The Alchemist  has ratings  :4.5\n",
      "Book : Thinking, Fast and Slow  has ratings  :4.5\n",
      "Book : The Silent Patient  has ratings  :4.5\n",
      "Book : Ikigai  has ratings  :4.5\n",
      "Book : Harry Potter and the Sorcerer’s Stone  has ratings  :4.333333333333333\n",
      "Book : To Kill a Mockingbird  has ratings  :4.25\n",
      "Book : 1984  has ratings  :4.0\n",
      "Book : Atomic Habits  has ratings  :4.0\n",
      "Book : The Hobbit  has ratings  :4.0\n",
      "Book : The Power of Now  has ratings  :4.0\n",
      "Book : The Catcher in the Rye  has ratings  :3.3333333333333335\n"
     ]
    }
   ],
   "source": [
    "#Recommending book on the basis of average rating\n",
    "avg_ratings=np.array(avg_ratings)\n",
    "sorted_avg_rating=-np.sort(-avg_ratings)\n",
    "sort_avg_indices=np.argsort(-avg_ratings)\n",
    "#print(sorted_avg_rating)\n",
    "#print(sort_avg_indices)\n",
    "for i in sort_avg_indices:\n",
    "    print(f\"Book : {books[i][1]}  has ratings  :{avg_ratings[i]}\")"
   ]
  },
  {
   "cell_type": "code",
   "execution_count": 44,
   "id": "fddf385e-bc17-4818-b077-02a357e531db",
   "metadata": {},
   "outputs": [
    {
     "name": "stdin",
     "output_type": "stream",
     "text": [
      "enter how many books you want to be recommend: 5\n"
     ]
    },
    {
     "name": "stdout",
     "output_type": "stream",
     "text": [
      "\n",
      "📚 Top 5 Book Recommendations:\n",
      "----------------------------------------\n",
      "Deep Work (Productivity) — Avg Rating: 5.00\n",
      "Man’s Search for Meaning (Psychology) — Avg Rating: 4.80\n",
      "Sapiens (History) — Avg Rating: 4.67\n",
      "Educated (Memoir) — Avg Rating: 4.67\n",
      "The Alchemist (Fiction) — Avg Rating: 4.50\n"
     ]
    }
   ],
   "source": [
    "top_n=int(input(\"enter how many books you want to be recommend:\"))\n",
    "print(f\"\\n📚 Top {top_n} Book Recommendations:\")\n",
    "print(\"-\" * 40)\n",
    "for i in range(top_n):\n",
    "    index=sort_avg_indices[i]\n",
    "    title=books[index][1]\n",
    "    genre=books[index][2]\n",
    "    rating=avg_ratings[index]\n",
    "    print(f\"{title} ({genre}) — Avg Rating: {rating:.2f}\")\n",
    "    "
   ]
  },
  {
   "cell_type": "code",
   "execution_count": null,
   "id": "a259e3f0-a396-43f4-8182-f7e2779d6501",
   "metadata": {},
   "outputs": [],
   "source": []
  }
 ],
 "metadata": {
  "kernelspec": {
   "display_name": "Python 3 (ipykernel)",
   "language": "python",
   "name": "python3"
  },
  "language_info": {
   "codemirror_mode": {
    "name": "ipython",
    "version": 3
   },
   "file_extension": ".py",
   "mimetype": "text/x-python",
   "name": "python",
   "nbconvert_exporter": "python",
   "pygments_lexer": "ipython3",
   "version": "3.12.2"
  }
 },
 "nbformat": 4,
 "nbformat_minor": 5
}
