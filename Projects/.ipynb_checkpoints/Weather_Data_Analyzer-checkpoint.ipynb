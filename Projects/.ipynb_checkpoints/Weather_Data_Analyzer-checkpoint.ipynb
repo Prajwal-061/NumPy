{
 "cells": [
  {
   "cell_type": "code",
   "execution_count": 71,
   "id": "413f326c-7508-4f58-9e0c-bc8846fa1c9e",
   "metadata": {},
   "outputs": [
    {
     "name": "stdout",
     "output_type": "stream",
     "text": [
      "(Temp, Humidity, Rainfall):\n",
      " [[20 49 21]\n",
      " [32 55 30]\n",
      " [20 41 33]\n",
      " [27 69 12]\n",
      " [29 83 17]\n",
      " [37 68 46]\n",
      " [24 52 49]\n",
      " [26 43 38]\n",
      " [27 46 31]\n",
      " [28 88  7]\n",
      " [24 61 22]\n",
      " [25 50 15]\n",
      " [30 65  2]\n",
      " [33 85 35]\n",
      " [26 89 37]\n",
      " [39 59 33]\n",
      " [30 51 23]\n",
      " [25 68 19]\n",
      " [40 45  3]\n",
      " [27 77 20]\n",
      " [40 45 40]\n",
      " [24 79 38]\n",
      " [30 56  9]\n",
      " [29 74 26]\n",
      " [31 72  1]\n",
      " [30 75 18]\n",
      " [21 57 39]\n",
      " [30 88 16]\n",
      " [37 87 28]\n",
      " [35 43 42]]\n"
     ]
    }
   ],
   "source": [
    "import numpy as np\n",
    "weather_data1=np.random.randint(20,41,30)\n",
    "weather_data2=np.random.randint(40,91,30)\n",
    "weather_data3=np.random.randint(0,51,30)\n",
    "weather_data=np.vstack((weather_data1,weather_data2,weather_data3)).T\n",
    "print(\"(Temp, Humidity, Rainfall):\\n\", weather_data)"
   ]
  },
  {
   "cell_type": "code",
   "execution_count": 72,
   "id": "dd5fb142-4bde-4a12-9fb2-7fc0414a65ca",
   "metadata": {},
   "outputs": [
    {
     "name": "stdout",
     "output_type": "stream",
     "text": [
      "[29.2 64.  25. ]\n",
      " Average Temperature is 29.2\n",
      " Average Humidity is 64.0\n",
      " Average Rainfall is 25.0\n"
     ]
    }
   ],
   "source": [
    "#calculating the averages temperature,humidity and rainfall\n",
    "paramater_avg=np.mean(weather_data,axis=0)\n",
    "print(paramater_avg)\n",
    "print(f\" Average Temperature is {paramater_avg[0]}\\n Average Humidity is {paramater_avg[1]}\\n Average Rainfall is {paramater_avg[2]}\")"
   ]
  },
  {
   "cell_type": "code",
   "execution_count": 73,
   "id": "ccd67ae1-ba5b-4700-ba06-04e077ae1625",
   "metadata": {},
   "outputs": [
    {
     "name": "stdout",
     "output_type": "stream",
     "text": [
      "[40 89 49]\n",
      "The maximum temperature was at day 19 with temperature of 40 degree celsius\n",
      "The maximum Humidity was at day 15 with humidity of 89\n",
      "The maximum Rainfall was at day 7 with Rainfall of 49\n"
     ]
    }
   ],
   "source": [
    "# finding the day with maximum temperature,rainfall and humidity\n",
    "max_paramaters=np.max(weather_data,axis=0)\n",
    "print(max_paramaters)\n",
    "indices_temp_max=np.argmax(weather_data[:,0])\n",
    "indices_humidity_max=np.argmax(weather_data[:,1])\n",
    "indices_rainfall_max=np.argmax(weather_data[:,2])\n",
    "# print(indices_temp_max)\n",
    "# print(indices_humidity_max)\n",
    "# print(indices_rainfall_max)\n",
    "print(f\"The maximum temperature was at day {indices_temp_max+1} with temperature of {max_paramaters[0]} degree celsius\")\n",
    "print(f\"The maximum Humidity was at day {indices_humidity_max+1} with humidity of {max_paramaters[1]}\")\n",
    "print(f\"The maximum Rainfall was at day {indices_rainfall_max+1} with Rainfall of {max_paramaters[2]}\")"
   ]
  },
  {
   "cell_type": "code",
   "execution_count": 70,
   "id": "fa4f1a58-f568-4eb0-a557-fd648b443db9",
   "metadata": {},
   "outputs": [
    {
     "name": "stdout",
     "output_type": "stream",
     "text": [
      "[]\n",
      "Days with the maximum Temperature (40°C) are:\n"
     ]
    }
   ],
   "source": [
    "# finding the days where temperature is 40 degree that is hottest days of the month\n",
    "hot_days=np.where(weather_data[:,0]==40)[0]+1\n",
    "print(hot_days)\n",
    "print(\"Days with the maximum Temperature (40°C) are:\")\n",
    "for i in range(len(hot_days)):\n",
    "  print(\"Day:\",hot_days[i])\n",
    "for day in hot_days:\n",
    "    print(\"Day:\",day)"
   ]
  },
  {
   "cell_type": "code",
   "execution_count": 80,
   "id": "e8636f47-b941-480a-b8a6-9f18f157c92b",
   "metadata": {},
   "outputs": [
    {
     "name": "stdout",
     "output_type": "stream",
     "text": [
      "[ 6 16 19 21 29]\n",
      "Day 6 is Hot day with temperature 37\n",
      "Day 16 is Hot day with temperature 39\n",
      "Day 19 is Hot day with temperature 40\n",
      "Day 21 is Hot day with temperature 40\n",
      "Day 29 is Hot day with temperature 37\n",
      "Day 2 is Normal day with temperature 32\n",
      "Day 4 is Normal day with temperature 27\n",
      "Day 5 is Normal day with temperature 29\n",
      "Day 8 is Normal day with temperature 26\n",
      "Day 9 is Normal day with temperature 27\n",
      "Day 10 is Normal day with temperature 28\n",
      "Day 12 is Normal day with temperature 25\n",
      "Day 13 is Normal day with temperature 30\n",
      "Day 14 is Normal day with temperature 33\n",
      "Day 15 is Normal day with temperature 26\n",
      "Day 17 is Normal day with temperature 30\n",
      "Day 18 is Normal day with temperature 25\n",
      "Day 20 is Normal day with temperature 27\n",
      "Day 23 is Normal day with temperature 30\n",
      "Day 24 is Normal day with temperature 29\n",
      "Day 25 is Normal day with temperature 31\n",
      "Day 26 is Normal day with temperature 30\n",
      "Day 28 is Normal day with temperature 30\n",
      "Day 30 is Normal day with temperature 35\n",
      "Day 1 is Cool day with temperature 20\n",
      "Day 3 is Cool day with temperature 20\n",
      "Day 7 is Cool day with temperature 24\n",
      "Day 11 is Cool day with temperature 24\n",
      "Day 22 is Cool day with temperature 24\n",
      "Day 27 is Cool day with temperature 21\n"
     ]
    }
   ],
   "source": [
    "#classifying day as hot,cool or Normal\n",
    "hot_days=np.where(weather_data[:,0]>35)[0]+1\n",
    "print(hot_days)\n",
    "for day in hot_days:\n",
    "  print(f\"Day {day} is Hot day with temperature {weather_data[day-1][0]}\")\n",
    "normal_days=np.where((weather_data[:,0]>=25) & (weather_data[:,0] <=35))[0]+1\n",
    "for day in normal_days:\n",
    "  print(f\"Day {day} is Normal day with temperature {weather_data[day-1][0]}\")\n",
    "cool_days=np.where(weather_data[:,0]<25)[0]+1\n",
    "for day in cool_days:\n",
    "  print(f\"Day {day} is Cool day with temperature {weather_data[day-1][0]}\")\n"
   ]
  },
  {
   "cell_type": "code",
   "execution_count": null,
   "id": "5cb2cbc8-f14e-4e7e-bac0-20aae4e0bd5b",
   "metadata": {},
   "outputs": [],
   "source": []
  }
 ],
 "metadata": {
  "kernelspec": {
   "display_name": "Python 3 (ipykernel)",
   "language": "python",
   "name": "python3"
  },
  "language_info": {
   "codemirror_mode": {
    "name": "ipython",
    "version": 3
   },
   "file_extension": ".py",
   "mimetype": "text/x-python",
   "name": "python",
   "nbconvert_exporter": "python",
   "pygments_lexer": "ipython3",
   "version": "3.12.2"
  }
 },
 "nbformat": 4,
 "nbformat_minor": 5
}
